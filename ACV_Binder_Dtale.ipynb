{
 "cells": [
  {
   "cell_type": "code",
   "execution_count": 2,
   "id": "412eebfc",
   "metadata": {
    "ExecuteTime": {
     "end_time": "2021-10-22T20:36:51.776615Z",
     "start_time": "2021-10-22T20:36:49.724576Z"
    },
    "hideCode": false,
    "hideOutput": true,
    "hidePrompt": false,
    "jupyter": {
     "source_hidden": true
    }
   },
   "outputs": [],
   "source": [
    "import pandas as pd\n",
    "import numpy as np\n",
    "import dtale\n",
    "import dtale.app as dtale_app\n",
    "dtale_app.JUPYTER_SERVER_PROXY = True"
   ]
  },
  {
   "cell_type": "code",
   "execution_count": 11,
   "id": "e4e68d67",
   "metadata": {
    "ExecuteTime": {
     "end_time": "2021-10-21T12:23:45.879484Z",
     "start_time": "2021-10-21T12:23:45.867516Z"
    },
    "hideCode": false,
    "hideOutput": true,
    "hidePrompt": false,
    "jupyter": {
     "source_hidden": true
    }
   },
   "outputs": [],
   "source": [
    "# Lectura de tablas de la base de datos\n",
    "#Base de Datos\n",
    "#Tablas\n",
    "Tables={ \n",
    "    'tblACC': 'AccidentesAnuario',\n",
    "    'tblACV': 'AccidentesVictAnuario',\n",
    "    'tblAforosM':'AforosMediosPeriodo',\n",
    "    'tblInvCond':'CENSOCONDUCTORES',\n",
    "    'tblDesplz':'DESPLAZAMIENTOS',\n",
    "    'tblRed_LTipoVia':'DFB_Red_LTipoVia',\n",
    "    'tblInvAforAcc':'InvAforAcc',\n",
    "    'tblParques':'PARQUES',\n",
    "    'tblPIB':'PIB'\n",
    "       }"
   ]
  },
  {
   "cell_type": "code",
   "execution_count": 13,
   "id": "80626852",
   "metadata": {
    "ExecuteTime": {
     "end_time": "2021-10-21T12:23:47.600897Z",
     "start_time": "2021-10-21T12:23:47.586901Z"
    },
    "hideCode": false,
    "hideOutput": true,
    "hidePrompt": false,
    "jupyter": {
     "source_hidden": true
    }
   },
   "outputs": [],
   "source": [
    "Dataframes=[str.replace('tbl','df') for str in Tables]"
   ]
  },
  {
   "cell_type": "code",
   "execution_count": 14,
   "id": "a461c0fb",
   "metadata": {
    "ExecuteTime": {
     "end_time": "2021-10-21T12:23:48.480508Z",
     "start_time": "2021-10-21T12:23:48.167357Z"
    },
    "hideCode": false,
    "hideOutput": true,
    "hidePrompt": false,
    "jupyter": {
     "source_hidden": true
    }
   },
   "outputs": [],
   "source": [
    "for i in range(len(Dataframes)):\n",
    "    path= Dataframes[i] +\".pkl\"\n",
    "    exec('{} = pd.read_pickle(path)'.format(Dataframes[i]))"
   ]
  },
  {
   "cell_type": "code",
   "execution_count": 15,
   "id": "4664226b",
   "metadata": {
    "ExecuteTime": {
     "end_time": "2021-10-21T12:23:51.286569Z",
     "start_time": "2021-10-21T12:23:51.279590Z"
    },
    "hideCode": false,
    "hidePrompt": false,
    "jupyter": {
     "source_hidden": true
    }
   },
   "outputs": [],
   "source": [
    "# ACCIDENTES CON VÍCTIMAS ANUARIO"
   ]
  },
  {
   "cell_type": "markdown",
   "id": "60e6fcba",
   "metadata": {},
   "source": [
    "# ACCIDENTES CON VÍCTIMAS 2015 - 2019"
   ]
  },
  {
   "cell_type": "code",
   "execution_count": 7,
   "id": "ead3858e",
   "metadata": {
    "ExecuteTime": {
     "end_time": "2021-10-21T12:03:44.175301Z",
     "start_time": "2021-10-21T12:03:43.216867Z"
    },
    "hideCode": false,
    "hidePrompt": false,
    "jupyter": {
     "source_hidden": true
    }
   },
   "outputs": [
    {
     "data": {
      "text/html": [
       "\n",
       "        <iframe\n",
       "            width=\"100%\"\n",
       "            height=\"475\"\n",
       "            src=\"http://WS15412:40000/dtale/iframe/1\"\n",
       "            frameborder=\"0\"\n",
       "            allowfullscreen\n",
       "        ></iframe>\n",
       "        "
      ],
      "text/plain": [
       "<IPython.lib.display.IFrame at 0x23045a773d0>"
      ]
     },
     "metadata": {},
     "output_type": "display_data"
    },
    {
     "data": {
      "text/plain": []
     },
     "execution_count": 7,
     "metadata": {},
     "output_type": "execute_result"
    }
   ],
   "source": [
    "dtale.show(dfACV)"
   ]
  }
 ],
 "metadata": {
  "celltoolbar": "Hide code",
  "finalized": {
   "timestamp": 1634891034662,
   "trusted": true
  },
  "hide_input": false,
  "kernelspec": {
   "display_name": "Python 3 (ipykernel)",
   "language": "python",
   "name": "python3"
  },
  "language_info": {
   "codemirror_mode": {
    "name": "ipython",
    "version": 3
   },
   "file_extension": ".py",
   "mimetype": "text/x-python",
   "name": "python",
   "nbconvert_exporter": "python",
   "pygments_lexer": "ipython3",
   "version": "3.8.12"
  },
  "latex_envs": {
   "LaTeX_envs_menu_present": true,
   "autoclose": false,
   "autocomplete": true,
   "bibliofile": "biblio.bib",
   "cite_by": "apalike",
   "current_citInitial": 1,
   "eqLabelWithNumbers": true,
   "eqNumInitial": 1,
   "hotkeys": {
    "equation": "Ctrl-E",
    "itemize": "Ctrl-I"
   },
   "labels_anchors": false,
   "latex_user_defs": false,
   "report_style_numbering": false,
   "user_envs_cfg": false
  },
  "nbTranslate": {
   "displayLangs": [
    "*"
   ],
   "hotkey": "alt-t",
   "langInMainMenu": true,
   "sourceLang": "en",
   "targetLang": "fr",
   "useGoogleTranslate": true
  },
  "require": {
   "paths": {
    "buttons.colvis": "https://cdn.datatables.net/buttons/1.5.6/js/buttons.colVis.min",
    "buttons.flash": "https://cdn.datatables.net/buttons/1.5.6/js/buttons.flash.min",
    "buttons.html5": "https://cdn.datatables.net/buttons/1.5.6/js/buttons.html5.min",
    "buttons.print": "https://cdn.datatables.net/buttons/1.5.6/js/buttons.print.min",
    "chartjs": "https://cdnjs.cloudflare.com/ajax/libs/Chart.js/2.8.0/Chart",
    "d3": "https://d3js.org/d3.v5.min",
    "d3-array": "https://d3js.org/d3-array.v2.min",
    "datatables.net": "https://cdn.datatables.net/1.10.18/js/jquery.dataTables",
    "datatables.net-buttons": "https://cdn.datatables.net/buttons/1.5.6/js/dataTables.buttons.min",
    "datatables.responsive": "https://cdn.datatables.net/responsive/2.2.2/js/dataTables.responsive.min",
    "datatables.scroller": "https://cdn.datatables.net/scroller/2.0.0/js/dataTables.scroller.min",
    "datatables.select": "https://cdn.datatables.net/select/1.3.0/js/dataTables.select.min",
    "jszip": "https://cdnjs.cloudflare.com/ajax/libs/jszip/2.5.0/jszip.min",
    "moment": "https://cdnjs.cloudflare.com/ajax/libs/moment.js/2.8.0/moment",
    "pdfmake": "https://cdnjs.cloudflare.com/ajax/libs/pdfmake/0.1.36/pdfmake.min",
    "vfsfonts": "https://cdnjs.cloudflare.com/ajax/libs/pdfmake/0.1.36/vfs_fonts"
   },
   "shim": {
    "buttons.colvis": {
     "deps": [
      "jszip",
      "datatables.net-buttons"
     ]
    },
    "buttons.flash": {
     "deps": [
      "jszip",
      "datatables.net-buttons"
     ]
    },
    "buttons.html5": {
     "deps": [
      "jszip",
      "datatables.net-buttons"
     ]
    },
    "buttons.print": {
     "deps": [
      "jszip",
      "datatables.net-buttons"
     ]
    },
    "chartjs": {
     "deps": [
      "moment"
     ]
    },
    "datatables.net": {
     "exports": "$.fn.dataTable"
    },
    "datatables.net-buttons": {
     "deps": [
      "datatables.net"
     ]
    },
    "pdfmake": {
     "deps": [
      "datatables.net"
     ]
    },
    "vfsfonts": {
     "deps": [
      "datatables.net"
     ]
    }
   }
  },
  "toc": {
   "base_numbering": 1,
   "nav_menu": {},
   "number_sections": true,
   "sideBar": true,
   "skip_h1_title": false,
   "title_cell": "Table of Contents",
   "title_sidebar": "Contents",
   "toc_cell": false,
   "toc_position": {},
   "toc_section_display": true,
   "toc_window_display": false
  },
  "varInspector": {
   "cols": {
    "lenName": 16,
    "lenType": 16,
    "lenVar": 40
   },
   "kernels_config": {
    "python": {
     "delete_cmd_postfix": "",
     "delete_cmd_prefix": "del ",
     "library": "var_list.py",
     "varRefreshCmd": "print(var_dic_list())"
    },
    "r": {
     "delete_cmd_postfix": ") ",
     "delete_cmd_prefix": "rm(",
     "library": "var_list.r",
     "varRefreshCmd": "cat(var_dic_list()) "
    }
   },
   "types_to_exclude": [
    "module",
    "function",
    "builtin_function_or_method",
    "instance",
    "_Feature"
   ],
   "window_display": false
  }
 },
 "nbformat": 4,
 "nbformat_minor": 5
}
